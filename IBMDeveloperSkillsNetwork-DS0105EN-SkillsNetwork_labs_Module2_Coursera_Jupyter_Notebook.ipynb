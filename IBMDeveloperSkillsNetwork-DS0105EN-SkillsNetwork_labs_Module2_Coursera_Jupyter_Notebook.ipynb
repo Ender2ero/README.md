{
  "metadata": {
    "kernelspec": {
      "name": "python",
      "display_name": "Pyolite",
      "language": "python"
    },
    "language_info": {
      "codemirror_mode": {
        "name": "python",
        "version": 3
      },
      "file_extension": ".py",
      "mimetype": "text/x-python",
      "name": "python",
      "nbconvert_exporter": "python",
      "pygments_lexer": "ipython3",
      "version": "3.8"
    }
  },
  "nbformat_minor": 4,
  "nbformat": 4,
  "cells": [
    {
      "cell_type": "markdown",
      "source": "<center>\n    <img src=\"https://cf-courses-data.s3.us.cloud-object-storage.appdomain.cloud/IBMDeveloperSkillsNetwork-DS0105EN-SkillsNetwork/labs/Module2/images/SN_web_lightmode.png\" width=\"300\" alt=\"cognitiveclass.ai logo\">\n</center>\n",
      "metadata": {}
    },
    {
      "cell_type": "markdown",
      "source": "#### Add your code below following the instructions given in the course\n",
      "metadata": {}
    },
    {
      "cell_type": "markdown",
      "source": "# My Jupyter Notebook on IBM Watson Studio",
      "metadata": {
        "tags": []
      }
    },
    {
      "cell_type": "markdown",
      "source": "**Xiaoxiao Zhan**",
      "metadata": {}
    },
    {
      "cell_type": "markdown",
      "source": "*I am interested in data science because it is an interesting subject to learn and apply to the data world. I'd like to apply what I am learning in the future if I become a data scientist.*",
      "metadata": {}
    },
    {
      "cell_type": "markdown",
      "source": "### My code in cell 5 is going to display the result of 1+1.",
      "metadata": {}
    },
    {
      "cell_type": "code",
      "source": "1 + 1",
      "metadata": {
        "trusted": true
      },
      "execution_count": 1,
      "outputs": [
        {
          "execution_count": 1,
          "output_type": "execute_result",
          "data": {
            "text/plain": "2"
          },
          "metadata": {}
        }
      ]
    },
    {
      "cell_type": "markdown",
      "source": "\n---\n\n* 1+1=2.\n* 2+2=4.\n\n    > This is not a bot.\n\n* 3+3=6.\n\n---\n\n1. 4+4=8\n2. 5+5=10\n3. 6+6=12\n    - Is this a bot?\n    - This might be a bot.\n4. 7+7=14",
      "metadata": {}
    }
  ]
}